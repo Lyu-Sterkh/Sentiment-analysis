{
  "nbformat": 4,
  "nbformat_minor": 0,
  "metadata": {
    "colab": {
      "provenance": [],
      "include_colab_link": true
    },
    "kernelspec": {
      "name": "python3",
      "display_name": "Python 3"
    },
    "language_info": {
      "name": "python"
    }
  },
  "cells": [
    {
      "cell_type": "markdown",
      "metadata": {
        "id": "view-in-github",
        "colab_type": "text"
      },
      "source": [
        "<a href=\"https://colab.research.google.com/github/Lyu-Sterkh/Sentiment-analysis/blob/main/Sent_analysis_Sequential_on_balanced_data.ipynb\" target=\"_parent\"><img src=\"https://colab.research.google.com/assets/colab-badge.svg\" alt=\"Open In Colab\"/></a>"
      ]
    },
    {
      "cell_type": "markdown",
      "source": [
        "# Import"
      ],
      "metadata": {
        "id": "zf6caXFuZxu6"
      }
    },
    {
      "cell_type": "code",
      "execution_count": null,
      "metadata": {
        "id": "6fT7azNMZsAH"
      },
      "outputs": [],
      "source": [
        "import pandas as pd\n",
        "import numpy as np\n",
        "import nltk\n",
        "from nltk.corpus import stopwords\n",
        "from nltk.stem import WordNetLemmatizer\n",
        "import matplotlib.pyplot as plt\n",
        "from keras import models\n",
        "from keras import layers\n",
        "import re\n",
        "from sklearn.feature_extraction.text import CountVectorizer\n",
        "from sklearn.model_selection import train_test_split\n",
        "from tensorflow.keras.models import Sequential\n",
        "from tensorflow.keras.layers import Dense\n",
        "\n",
        "%matplotlib inline"
      ]
    },
    {
      "cell_type": "code",
      "source": [
        "nltk.download('words')\n",
        "nltk.download('punkt')\n",
        "nltk.download('wordnet')\n",
        "nltk.download('averaged_perceptron_tagger')\n",
        "nltk.download('maxent_ne_chunker')\n",
        "nltk.download('stopwords')\n",
        "nltk.download('vader_lexicon')"
      ],
      "metadata": {
        "colab": {
          "base_uri": "https://localhost:8080/"
        },
        "id": "lJnocDafaQYX",
        "outputId": "7e9bf2cf-5d92-4204-af84-24ed8fb344cf"
      },
      "execution_count": null,
      "outputs": [
        {
          "output_type": "stream",
          "name": "stderr",
          "text": [
            "[nltk_data] Downloading package words to /root/nltk_data...\n",
            "[nltk_data]   Unzipping corpora/words.zip.\n",
            "[nltk_data] Downloading package punkt to /root/nltk_data...\n",
            "[nltk_data]   Unzipping tokenizers/punkt.zip.\n",
            "[nltk_data] Downloading package wordnet to /root/nltk_data...\n",
            "[nltk_data] Downloading package averaged_perceptron_tagger to\n",
            "[nltk_data]     /root/nltk_data...\n",
            "[nltk_data]   Unzipping taggers/averaged_perceptron_tagger.zip.\n",
            "[nltk_data] Downloading package maxent_ne_chunker to\n",
            "[nltk_data]     /root/nltk_data...\n",
            "[nltk_data]   Unzipping chunkers/maxent_ne_chunker.zip.\n",
            "[nltk_data] Downloading package stopwords to /root/nltk_data...\n",
            "[nltk_data]   Unzipping corpora/stopwords.zip.\n",
            "[nltk_data] Downloading package vader_lexicon to /root/nltk_data...\n"
          ]
        },
        {
          "output_type": "execute_result",
          "data": {
            "text/plain": [
              "True"
            ]
          },
          "metadata": {},
          "execution_count": 2
        }
      ]
    },
    {
      "cell_type": "markdown",
      "source": [
        "# Google Drive"
      ],
      "metadata": {
        "id": "I5478SQV-G3l"
      }
    },
    {
      "cell_type": "code",
      "source": [
        "from google.colab import drive\n",
        "drive.mount ('/content/drive')"
      ],
      "metadata": {
        "colab": {
          "base_uri": "https://localhost:8080/"
        },
        "id": "esyxqGqS0E8B",
        "outputId": "8542d7e4-87fc-49a5-8af8-9a7b89d25858"
      },
      "execution_count": null,
      "outputs": [
        {
          "output_type": "stream",
          "name": "stdout",
          "text": [
            "Mounted at /content/drive\n"
          ]
        }
      ]
    },
    {
      "cell_type": "markdown",
      "source": [
        "# Read in data"
      ],
      "metadata": {
        "id": "ZJs4SlkJ-KNr"
      }
    },
    {
      "cell_type": "code",
      "source": [
        "df = pd.read_csv('/content/drive/MyDrive/NLP/Datasets/Reviews.csv', index_col='Id')"
      ],
      "metadata": {
        "id": "HpC3HFs548Ef"
      },
      "execution_count": null,
      "outputs": []
    },
    {
      "cell_type": "code",
      "source": [
        "df_five = df.loc[(df['Score'] == 5)]\n",
        "df_five = df_five.sample(500)\n",
        "df_five.drop(columns=['ProductId', 'UserId', 'ProfileName', 'HelpfulnessNumerator', 'HelpfulnessDenominator', 'Time', 'Summary'], inplace=True)\n",
        "df_five.head()"
      ],
      "metadata": {
        "colab": {
          "base_uri": "https://localhost:8080/",
          "height": 237
        },
        "id": "teMqjnFs6DyH",
        "outputId": "6b622887-abbd-45c4-ac7e-4601a03c4c5a"
      },
      "execution_count": null,
      "outputs": [
        {
          "output_type": "execute_result",
          "data": {
            "text/plain": [
              "        Score                                               Text\n",
              "Id                                                              \n",
              "304803      5  These cheddar bunnies are perfect snacks for k...\n",
              "170163      5  This coffee tastes good and it is cheep at thi...\n",
              "360810      5  I also had heard from my lamaze class that red...\n",
              "563687      5  I have never been a huge fan of oatmeal cookie...\n",
              "515932      5  I was a bit nervous ordering this - considerin..."
            ],
            "text/html": [
              "\n",
              "  <div id=\"df-5c3c9404-d0b7-41df-9d8e-af9363f0e2aa\">\n",
              "    <div class=\"colab-df-container\">\n",
              "      <div>\n",
              "<style scoped>\n",
              "    .dataframe tbody tr th:only-of-type {\n",
              "        vertical-align: middle;\n",
              "    }\n",
              "\n",
              "    .dataframe tbody tr th {\n",
              "        vertical-align: top;\n",
              "    }\n",
              "\n",
              "    .dataframe thead th {\n",
              "        text-align: right;\n",
              "    }\n",
              "</style>\n",
              "<table border=\"1\" class=\"dataframe\">\n",
              "  <thead>\n",
              "    <tr style=\"text-align: right;\">\n",
              "      <th></th>\n",
              "      <th>Score</th>\n",
              "      <th>Text</th>\n",
              "    </tr>\n",
              "    <tr>\n",
              "      <th>Id</th>\n",
              "      <th></th>\n",
              "      <th></th>\n",
              "    </tr>\n",
              "  </thead>\n",
              "  <tbody>\n",
              "    <tr>\n",
              "      <th>304803</th>\n",
              "      <td>5</td>\n",
              "      <td>These cheddar bunnies are perfect snacks for k...</td>\n",
              "    </tr>\n",
              "    <tr>\n",
              "      <th>170163</th>\n",
              "      <td>5</td>\n",
              "      <td>This coffee tastes good and it is cheep at thi...</td>\n",
              "    </tr>\n",
              "    <tr>\n",
              "      <th>360810</th>\n",
              "      <td>5</td>\n",
              "      <td>I also had heard from my lamaze class that red...</td>\n",
              "    </tr>\n",
              "    <tr>\n",
              "      <th>563687</th>\n",
              "      <td>5</td>\n",
              "      <td>I have never been a huge fan of oatmeal cookie...</td>\n",
              "    </tr>\n",
              "    <tr>\n",
              "      <th>515932</th>\n",
              "      <td>5</td>\n",
              "      <td>I was a bit nervous ordering this - considerin...</td>\n",
              "    </tr>\n",
              "  </tbody>\n",
              "</table>\n",
              "</div>\n",
              "      <button class=\"colab-df-convert\" onclick=\"convertToInteractive('df-5c3c9404-d0b7-41df-9d8e-af9363f0e2aa')\"\n",
              "              title=\"Convert this dataframe to an interactive table.\"\n",
              "              style=\"display:none;\">\n",
              "        \n",
              "  <svg xmlns=\"http://www.w3.org/2000/svg\" height=\"24px\"viewBox=\"0 0 24 24\"\n",
              "       width=\"24px\">\n",
              "    <path d=\"M0 0h24v24H0V0z\" fill=\"none\"/>\n",
              "    <path d=\"M18.56 5.44l.94 2.06.94-2.06 2.06-.94-2.06-.94-.94-2.06-.94 2.06-2.06.94zm-11 1L8.5 8.5l.94-2.06 2.06-.94-2.06-.94L8.5 2.5l-.94 2.06-2.06.94zm10 10l.94 2.06.94-2.06 2.06-.94-2.06-.94-.94-2.06-.94 2.06-2.06.94z\"/><path d=\"M17.41 7.96l-1.37-1.37c-.4-.4-.92-.59-1.43-.59-.52 0-1.04.2-1.43.59L10.3 9.45l-7.72 7.72c-.78.78-.78 2.05 0 2.83L4 21.41c.39.39.9.59 1.41.59.51 0 1.02-.2 1.41-.59l7.78-7.78 2.81-2.81c.8-.78.8-2.07 0-2.86zM5.41 20L4 18.59l7.72-7.72 1.47 1.35L5.41 20z\"/>\n",
              "  </svg>\n",
              "      </button>\n",
              "      \n",
              "  <style>\n",
              "    .colab-df-container {\n",
              "      display:flex;\n",
              "      flex-wrap:wrap;\n",
              "      gap: 12px;\n",
              "    }\n",
              "\n",
              "    .colab-df-convert {\n",
              "      background-color: #E8F0FE;\n",
              "      border: none;\n",
              "      border-radius: 50%;\n",
              "      cursor: pointer;\n",
              "      display: none;\n",
              "      fill: #1967D2;\n",
              "      height: 32px;\n",
              "      padding: 0 0 0 0;\n",
              "      width: 32px;\n",
              "    }\n",
              "\n",
              "    .colab-df-convert:hover {\n",
              "      background-color: #E2EBFA;\n",
              "      box-shadow: 0px 1px 2px rgba(60, 64, 67, 0.3), 0px 1px 3px 1px rgba(60, 64, 67, 0.15);\n",
              "      fill: #174EA6;\n",
              "    }\n",
              "\n",
              "    [theme=dark] .colab-df-convert {\n",
              "      background-color: #3B4455;\n",
              "      fill: #D2E3FC;\n",
              "    }\n",
              "\n",
              "    [theme=dark] .colab-df-convert:hover {\n",
              "      background-color: #434B5C;\n",
              "      box-shadow: 0px 1px 3px 1px rgba(0, 0, 0, 0.15);\n",
              "      filter: drop-shadow(0px 1px 2px rgba(0, 0, 0, 0.3));\n",
              "      fill: #FFFFFF;\n",
              "    }\n",
              "  </style>\n",
              "\n",
              "      <script>\n",
              "        const buttonEl =\n",
              "          document.querySelector('#df-5c3c9404-d0b7-41df-9d8e-af9363f0e2aa button.colab-df-convert');\n",
              "        buttonEl.style.display =\n",
              "          google.colab.kernel.accessAllowed ? 'block' : 'none';\n",
              "\n",
              "        async function convertToInteractive(key) {\n",
              "          const element = document.querySelector('#df-5c3c9404-d0b7-41df-9d8e-af9363f0e2aa');\n",
              "          const dataTable =\n",
              "            await google.colab.kernel.invokeFunction('convertToInteractive',\n",
              "                                                     [key], {});\n",
              "          if (!dataTable) return;\n",
              "\n",
              "          const docLinkHtml = 'Like what you see? Visit the ' +\n",
              "            '<a target=\"_blank\" href=https://colab.research.google.com/notebooks/data_table.ipynb>data table notebook</a>'\n",
              "            + ' to learn more about interactive tables.';\n",
              "          element.innerHTML = '';\n",
              "          dataTable['output_type'] = 'display_data';\n",
              "          await google.colab.output.renderOutput(dataTable, element);\n",
              "          const docLink = document.createElement('div');\n",
              "          docLink.innerHTML = docLinkHtml;\n",
              "          element.appendChild(docLink);\n",
              "        }\n",
              "      </script>\n",
              "    </div>\n",
              "  </div>\n",
              "  "
            ]
          },
          "metadata": {},
          "execution_count": 114
        }
      ]
    },
    {
      "cell_type": "code",
      "source": [
        "df_four = df.loc[(df['Score'] == 4)]\n",
        "df_four = df_four.sample(500)\n",
        "df_four.drop(columns=['ProductId', 'UserId', 'ProfileName', 'HelpfulnessNumerator', 'HelpfulnessDenominator', 'Time', 'Summary'], inplace=True)\n",
        "df_four.head()"
      ],
      "metadata": {
        "colab": {
          "base_uri": "https://localhost:8080/",
          "height": 237
        },
        "id": "9MRT9Q7Y554R",
        "outputId": "96995492-4ebf-4970-f82b-d1857a351f1f"
      },
      "execution_count": null,
      "outputs": [
        {
          "output_type": "execute_result",
          "data": {
            "text/plain": [
              "        Score                                               Text\n",
              "Id                                                              \n",
              "163695      4  I hate to admit I miss the lard. I was the one...\n",
              "84399       4  We know a lot about GF producs in my house and...\n",
              "539236      4  With all the nonsense about pet food recalls a...\n",
              "226598      4  I take this to work and just add hot water, th...\n",
              "409991      4  I love the taste of this k-cup. Highly recomme..."
            ],
            "text/html": [
              "\n",
              "  <div id=\"df-4b760fcf-154f-467c-b6c5-388fea79c4ab\">\n",
              "    <div class=\"colab-df-container\">\n",
              "      <div>\n",
              "<style scoped>\n",
              "    .dataframe tbody tr th:only-of-type {\n",
              "        vertical-align: middle;\n",
              "    }\n",
              "\n",
              "    .dataframe tbody tr th {\n",
              "        vertical-align: top;\n",
              "    }\n",
              "\n",
              "    .dataframe thead th {\n",
              "        text-align: right;\n",
              "    }\n",
              "</style>\n",
              "<table border=\"1\" class=\"dataframe\">\n",
              "  <thead>\n",
              "    <tr style=\"text-align: right;\">\n",
              "      <th></th>\n",
              "      <th>Score</th>\n",
              "      <th>Text</th>\n",
              "    </tr>\n",
              "    <tr>\n",
              "      <th>Id</th>\n",
              "      <th></th>\n",
              "      <th></th>\n",
              "    </tr>\n",
              "  </thead>\n",
              "  <tbody>\n",
              "    <tr>\n",
              "      <th>163695</th>\n",
              "      <td>4</td>\n",
              "      <td>I hate to admit I miss the lard. I was the one...</td>\n",
              "    </tr>\n",
              "    <tr>\n",
              "      <th>84399</th>\n",
              "      <td>4</td>\n",
              "      <td>We know a lot about GF producs in my house and...</td>\n",
              "    </tr>\n",
              "    <tr>\n",
              "      <th>539236</th>\n",
              "      <td>4</td>\n",
              "      <td>With all the nonsense about pet food recalls a...</td>\n",
              "    </tr>\n",
              "    <tr>\n",
              "      <th>226598</th>\n",
              "      <td>4</td>\n",
              "      <td>I take this to work and just add hot water, th...</td>\n",
              "    </tr>\n",
              "    <tr>\n",
              "      <th>409991</th>\n",
              "      <td>4</td>\n",
              "      <td>I love the taste of this k-cup. Highly recomme...</td>\n",
              "    </tr>\n",
              "  </tbody>\n",
              "</table>\n",
              "</div>\n",
              "      <button class=\"colab-df-convert\" onclick=\"convertToInteractive('df-4b760fcf-154f-467c-b6c5-388fea79c4ab')\"\n",
              "              title=\"Convert this dataframe to an interactive table.\"\n",
              "              style=\"display:none;\">\n",
              "        \n",
              "  <svg xmlns=\"http://www.w3.org/2000/svg\" height=\"24px\"viewBox=\"0 0 24 24\"\n",
              "       width=\"24px\">\n",
              "    <path d=\"M0 0h24v24H0V0z\" fill=\"none\"/>\n",
              "    <path d=\"M18.56 5.44l.94 2.06.94-2.06 2.06-.94-2.06-.94-.94-2.06-.94 2.06-2.06.94zm-11 1L8.5 8.5l.94-2.06 2.06-.94-2.06-.94L8.5 2.5l-.94 2.06-2.06.94zm10 10l.94 2.06.94-2.06 2.06-.94-2.06-.94-.94-2.06-.94 2.06-2.06.94z\"/><path d=\"M17.41 7.96l-1.37-1.37c-.4-.4-.92-.59-1.43-.59-.52 0-1.04.2-1.43.59L10.3 9.45l-7.72 7.72c-.78.78-.78 2.05 0 2.83L4 21.41c.39.39.9.59 1.41.59.51 0 1.02-.2 1.41-.59l7.78-7.78 2.81-2.81c.8-.78.8-2.07 0-2.86zM5.41 20L4 18.59l7.72-7.72 1.47 1.35L5.41 20z\"/>\n",
              "  </svg>\n",
              "      </button>\n",
              "      \n",
              "  <style>\n",
              "    .colab-df-container {\n",
              "      display:flex;\n",
              "      flex-wrap:wrap;\n",
              "      gap: 12px;\n",
              "    }\n",
              "\n",
              "    .colab-df-convert {\n",
              "      background-color: #E8F0FE;\n",
              "      border: none;\n",
              "      border-radius: 50%;\n",
              "      cursor: pointer;\n",
              "      display: none;\n",
              "      fill: #1967D2;\n",
              "      height: 32px;\n",
              "      padding: 0 0 0 0;\n",
              "      width: 32px;\n",
              "    }\n",
              "\n",
              "    .colab-df-convert:hover {\n",
              "      background-color: #E2EBFA;\n",
              "      box-shadow: 0px 1px 2px rgba(60, 64, 67, 0.3), 0px 1px 3px 1px rgba(60, 64, 67, 0.15);\n",
              "      fill: #174EA6;\n",
              "    }\n",
              "\n",
              "    [theme=dark] .colab-df-convert {\n",
              "      background-color: #3B4455;\n",
              "      fill: #D2E3FC;\n",
              "    }\n",
              "\n",
              "    [theme=dark] .colab-df-convert:hover {\n",
              "      background-color: #434B5C;\n",
              "      box-shadow: 0px 1px 3px 1px rgba(0, 0, 0, 0.15);\n",
              "      filter: drop-shadow(0px 1px 2px rgba(0, 0, 0, 0.3));\n",
              "      fill: #FFFFFF;\n",
              "    }\n",
              "  </style>\n",
              "\n",
              "      <script>\n",
              "        const buttonEl =\n",
              "          document.querySelector('#df-4b760fcf-154f-467c-b6c5-388fea79c4ab button.colab-df-convert');\n",
              "        buttonEl.style.display =\n",
              "          google.colab.kernel.accessAllowed ? 'block' : 'none';\n",
              "\n",
              "        async function convertToInteractive(key) {\n",
              "          const element = document.querySelector('#df-4b760fcf-154f-467c-b6c5-388fea79c4ab');\n",
              "          const dataTable =\n",
              "            await google.colab.kernel.invokeFunction('convertToInteractive',\n",
              "                                                     [key], {});\n",
              "          if (!dataTable) return;\n",
              "\n",
              "          const docLinkHtml = 'Like what you see? Visit the ' +\n",
              "            '<a target=\"_blank\" href=https://colab.research.google.com/notebooks/data_table.ipynb>data table notebook</a>'\n",
              "            + ' to learn more about interactive tables.';\n",
              "          element.innerHTML = '';\n",
              "          dataTable['output_type'] = 'display_data';\n",
              "          await google.colab.output.renderOutput(dataTable, element);\n",
              "          const docLink = document.createElement('div');\n",
              "          docLink.innerHTML = docLinkHtml;\n",
              "          element.appendChild(docLink);\n",
              "        }\n",
              "      </script>\n",
              "    </div>\n",
              "  </div>\n",
              "  "
            ]
          },
          "metadata": {},
          "execution_count": 115
        }
      ]
    },
    {
      "cell_type": "code",
      "source": [
        "df_three = df.loc[(df['Score'] == 3)]\n",
        "df_three = df_three.sample(500)\n",
        "df_three.drop(columns=['ProductId', 'UserId', 'ProfileName', 'HelpfulnessNumerator', 'HelpfulnessDenominator', 'Time', 'Summary'], inplace=True)\n",
        "df_three.head()"
      ],
      "metadata": {
        "colab": {
          "base_uri": "https://localhost:8080/",
          "height": 237
        },
        "id": "MK1OPLdb7YZT",
        "outputId": "b456f3a8-0f51-4e77-843e-4bddbf240cad"
      },
      "execution_count": null,
      "outputs": [
        {
          "output_type": "execute_result",
          "data": {
            "text/plain": [
              "        Score                                               Text\n",
              "Id                                                              \n",
              "163349      3  this is the second time I have ordered these f...\n",
              "534609      3  I had tried Jennies individually-wrapped cocon...\n",
              "65305       3  I purchased this product online because I coul...\n",
              "336230      3  I wanted my pup to love these. He is a 11 week...\n",
              "187478      3  This blend is okay, but for my taste it has a ..."
            ],
            "text/html": [
              "\n",
              "  <div id=\"df-7fb1a4e7-91ff-451c-aff9-af1f0ad03e13\">\n",
              "    <div class=\"colab-df-container\">\n",
              "      <div>\n",
              "<style scoped>\n",
              "    .dataframe tbody tr th:only-of-type {\n",
              "        vertical-align: middle;\n",
              "    }\n",
              "\n",
              "    .dataframe tbody tr th {\n",
              "        vertical-align: top;\n",
              "    }\n",
              "\n",
              "    .dataframe thead th {\n",
              "        text-align: right;\n",
              "    }\n",
              "</style>\n",
              "<table border=\"1\" class=\"dataframe\">\n",
              "  <thead>\n",
              "    <tr style=\"text-align: right;\">\n",
              "      <th></th>\n",
              "      <th>Score</th>\n",
              "      <th>Text</th>\n",
              "    </tr>\n",
              "    <tr>\n",
              "      <th>Id</th>\n",
              "      <th></th>\n",
              "      <th></th>\n",
              "    </tr>\n",
              "  </thead>\n",
              "  <tbody>\n",
              "    <tr>\n",
              "      <th>163349</th>\n",
              "      <td>3</td>\n",
              "      <td>this is the second time I have ordered these f...</td>\n",
              "    </tr>\n",
              "    <tr>\n",
              "      <th>534609</th>\n",
              "      <td>3</td>\n",
              "      <td>I had tried Jennies individually-wrapped cocon...</td>\n",
              "    </tr>\n",
              "    <tr>\n",
              "      <th>65305</th>\n",
              "      <td>3</td>\n",
              "      <td>I purchased this product online because I coul...</td>\n",
              "    </tr>\n",
              "    <tr>\n",
              "      <th>336230</th>\n",
              "      <td>3</td>\n",
              "      <td>I wanted my pup to love these. He is a 11 week...</td>\n",
              "    </tr>\n",
              "    <tr>\n",
              "      <th>187478</th>\n",
              "      <td>3</td>\n",
              "      <td>This blend is okay, but for my taste it has a ...</td>\n",
              "    </tr>\n",
              "  </tbody>\n",
              "</table>\n",
              "</div>\n",
              "      <button class=\"colab-df-convert\" onclick=\"convertToInteractive('df-7fb1a4e7-91ff-451c-aff9-af1f0ad03e13')\"\n",
              "              title=\"Convert this dataframe to an interactive table.\"\n",
              "              style=\"display:none;\">\n",
              "        \n",
              "  <svg xmlns=\"http://www.w3.org/2000/svg\" height=\"24px\"viewBox=\"0 0 24 24\"\n",
              "       width=\"24px\">\n",
              "    <path d=\"M0 0h24v24H0V0z\" fill=\"none\"/>\n",
              "    <path d=\"M18.56 5.44l.94 2.06.94-2.06 2.06-.94-2.06-.94-.94-2.06-.94 2.06-2.06.94zm-11 1L8.5 8.5l.94-2.06 2.06-.94-2.06-.94L8.5 2.5l-.94 2.06-2.06.94zm10 10l.94 2.06.94-2.06 2.06-.94-2.06-.94-.94-2.06-.94 2.06-2.06.94z\"/><path d=\"M17.41 7.96l-1.37-1.37c-.4-.4-.92-.59-1.43-.59-.52 0-1.04.2-1.43.59L10.3 9.45l-7.72 7.72c-.78.78-.78 2.05 0 2.83L4 21.41c.39.39.9.59 1.41.59.51 0 1.02-.2 1.41-.59l7.78-7.78 2.81-2.81c.8-.78.8-2.07 0-2.86zM5.41 20L4 18.59l7.72-7.72 1.47 1.35L5.41 20z\"/>\n",
              "  </svg>\n",
              "      </button>\n",
              "      \n",
              "  <style>\n",
              "    .colab-df-container {\n",
              "      display:flex;\n",
              "      flex-wrap:wrap;\n",
              "      gap: 12px;\n",
              "    }\n",
              "\n",
              "    .colab-df-convert {\n",
              "      background-color: #E8F0FE;\n",
              "      border: none;\n",
              "      border-radius: 50%;\n",
              "      cursor: pointer;\n",
              "      display: none;\n",
              "      fill: #1967D2;\n",
              "      height: 32px;\n",
              "      padding: 0 0 0 0;\n",
              "      width: 32px;\n",
              "    }\n",
              "\n",
              "    .colab-df-convert:hover {\n",
              "      background-color: #E2EBFA;\n",
              "      box-shadow: 0px 1px 2px rgba(60, 64, 67, 0.3), 0px 1px 3px 1px rgba(60, 64, 67, 0.15);\n",
              "      fill: #174EA6;\n",
              "    }\n",
              "\n",
              "    [theme=dark] .colab-df-convert {\n",
              "      background-color: #3B4455;\n",
              "      fill: #D2E3FC;\n",
              "    }\n",
              "\n",
              "    [theme=dark] .colab-df-convert:hover {\n",
              "      background-color: #434B5C;\n",
              "      box-shadow: 0px 1px 3px 1px rgba(0, 0, 0, 0.15);\n",
              "      filter: drop-shadow(0px 1px 2px rgba(0, 0, 0, 0.3));\n",
              "      fill: #FFFFFF;\n",
              "    }\n",
              "  </style>\n",
              "\n",
              "      <script>\n",
              "        const buttonEl =\n",
              "          document.querySelector('#df-7fb1a4e7-91ff-451c-aff9-af1f0ad03e13 button.colab-df-convert');\n",
              "        buttonEl.style.display =\n",
              "          google.colab.kernel.accessAllowed ? 'block' : 'none';\n",
              "\n",
              "        async function convertToInteractive(key) {\n",
              "          const element = document.querySelector('#df-7fb1a4e7-91ff-451c-aff9-af1f0ad03e13');\n",
              "          const dataTable =\n",
              "            await google.colab.kernel.invokeFunction('convertToInteractive',\n",
              "                                                     [key], {});\n",
              "          if (!dataTable) return;\n",
              "\n",
              "          const docLinkHtml = 'Like what you see? Visit the ' +\n",
              "            '<a target=\"_blank\" href=https://colab.research.google.com/notebooks/data_table.ipynb>data table notebook</a>'\n",
              "            + ' to learn more about interactive tables.';\n",
              "          element.innerHTML = '';\n",
              "          dataTable['output_type'] = 'display_data';\n",
              "          await google.colab.output.renderOutput(dataTable, element);\n",
              "          const docLink = document.createElement('div');\n",
              "          docLink.innerHTML = docLinkHtml;\n",
              "          element.appendChild(docLink);\n",
              "        }\n",
              "      </script>\n",
              "    </div>\n",
              "  </div>\n",
              "  "
            ]
          },
          "metadata": {},
          "execution_count": 116
        }
      ]
    },
    {
      "cell_type": "code",
      "source": [
        "df_two = df.loc[(df['Score'] == 2)]\n",
        "df_two = df_two.sample(500)\n",
        "df_two.drop(columns=['ProductId', 'UserId', 'ProfileName', 'HelpfulnessNumerator', 'HelpfulnessDenominator', 'Time', 'Summary'], inplace=True)\n",
        "df_two.head()"
      ],
      "metadata": {
        "colab": {
          "base_uri": "https://localhost:8080/",
          "height": 237
        },
        "id": "Wt10n0IX7YWJ",
        "outputId": "f3d18d53-ed2b-4a28-86ea-324fad14416f"
      },
      "execution_count": null,
      "outputs": [
        {
          "output_type": "execute_result",
          "data": {
            "text/plain": [
              "        Score                                               Text\n",
              "Id                                                              \n",
              "237039      2  This is a Knorr miss :( BLAND, very bland. It'...\n",
              "292392      2  I love Chinese almond cookies and these were a...\n",
              "12481       2  The last bag of these I got from Amazon had a ...\n",
              "433615      2  I bought this thinking it would be easier to h...\n",
              "320949      2  These are absolutely awful. I like Stonewall's..."
            ],
            "text/html": [
              "\n",
              "  <div id=\"df-ab213963-6d9c-40b0-bca5-f6e999cd9d65\">\n",
              "    <div class=\"colab-df-container\">\n",
              "      <div>\n",
              "<style scoped>\n",
              "    .dataframe tbody tr th:only-of-type {\n",
              "        vertical-align: middle;\n",
              "    }\n",
              "\n",
              "    .dataframe tbody tr th {\n",
              "        vertical-align: top;\n",
              "    }\n",
              "\n",
              "    .dataframe thead th {\n",
              "        text-align: right;\n",
              "    }\n",
              "</style>\n",
              "<table border=\"1\" class=\"dataframe\">\n",
              "  <thead>\n",
              "    <tr style=\"text-align: right;\">\n",
              "      <th></th>\n",
              "      <th>Score</th>\n",
              "      <th>Text</th>\n",
              "    </tr>\n",
              "    <tr>\n",
              "      <th>Id</th>\n",
              "      <th></th>\n",
              "      <th></th>\n",
              "    </tr>\n",
              "  </thead>\n",
              "  <tbody>\n",
              "    <tr>\n",
              "      <th>237039</th>\n",
              "      <td>2</td>\n",
              "      <td>This is a Knorr miss :( BLAND, very bland. It'...</td>\n",
              "    </tr>\n",
              "    <tr>\n",
              "      <th>292392</th>\n",
              "      <td>2</td>\n",
              "      <td>I love Chinese almond cookies and these were a...</td>\n",
              "    </tr>\n",
              "    <tr>\n",
              "      <th>12481</th>\n",
              "      <td>2</td>\n",
              "      <td>The last bag of these I got from Amazon had a ...</td>\n",
              "    </tr>\n",
              "    <tr>\n",
              "      <th>433615</th>\n",
              "      <td>2</td>\n",
              "      <td>I bought this thinking it would be easier to h...</td>\n",
              "    </tr>\n",
              "    <tr>\n",
              "      <th>320949</th>\n",
              "      <td>2</td>\n",
              "      <td>These are absolutely awful. I like Stonewall's...</td>\n",
              "    </tr>\n",
              "  </tbody>\n",
              "</table>\n",
              "</div>\n",
              "      <button class=\"colab-df-convert\" onclick=\"convertToInteractive('df-ab213963-6d9c-40b0-bca5-f6e999cd9d65')\"\n",
              "              title=\"Convert this dataframe to an interactive table.\"\n",
              "              style=\"display:none;\">\n",
              "        \n",
              "  <svg xmlns=\"http://www.w3.org/2000/svg\" height=\"24px\"viewBox=\"0 0 24 24\"\n",
              "       width=\"24px\">\n",
              "    <path d=\"M0 0h24v24H0V0z\" fill=\"none\"/>\n",
              "    <path d=\"M18.56 5.44l.94 2.06.94-2.06 2.06-.94-2.06-.94-.94-2.06-.94 2.06-2.06.94zm-11 1L8.5 8.5l.94-2.06 2.06-.94-2.06-.94L8.5 2.5l-.94 2.06-2.06.94zm10 10l.94 2.06.94-2.06 2.06-.94-2.06-.94-.94-2.06-.94 2.06-2.06.94z\"/><path d=\"M17.41 7.96l-1.37-1.37c-.4-.4-.92-.59-1.43-.59-.52 0-1.04.2-1.43.59L10.3 9.45l-7.72 7.72c-.78.78-.78 2.05 0 2.83L4 21.41c.39.39.9.59 1.41.59.51 0 1.02-.2 1.41-.59l7.78-7.78 2.81-2.81c.8-.78.8-2.07 0-2.86zM5.41 20L4 18.59l7.72-7.72 1.47 1.35L5.41 20z\"/>\n",
              "  </svg>\n",
              "      </button>\n",
              "      \n",
              "  <style>\n",
              "    .colab-df-container {\n",
              "      display:flex;\n",
              "      flex-wrap:wrap;\n",
              "      gap: 12px;\n",
              "    }\n",
              "\n",
              "    .colab-df-convert {\n",
              "      background-color: #E8F0FE;\n",
              "      border: none;\n",
              "      border-radius: 50%;\n",
              "      cursor: pointer;\n",
              "      display: none;\n",
              "      fill: #1967D2;\n",
              "      height: 32px;\n",
              "      padding: 0 0 0 0;\n",
              "      width: 32px;\n",
              "    }\n",
              "\n",
              "    .colab-df-convert:hover {\n",
              "      background-color: #E2EBFA;\n",
              "      box-shadow: 0px 1px 2px rgba(60, 64, 67, 0.3), 0px 1px 3px 1px rgba(60, 64, 67, 0.15);\n",
              "      fill: #174EA6;\n",
              "    }\n",
              "\n",
              "    [theme=dark] .colab-df-convert {\n",
              "      background-color: #3B4455;\n",
              "      fill: #D2E3FC;\n",
              "    }\n",
              "\n",
              "    [theme=dark] .colab-df-convert:hover {\n",
              "      background-color: #434B5C;\n",
              "      box-shadow: 0px 1px 3px 1px rgba(0, 0, 0, 0.15);\n",
              "      filter: drop-shadow(0px 1px 2px rgba(0, 0, 0, 0.3));\n",
              "      fill: #FFFFFF;\n",
              "    }\n",
              "  </style>\n",
              "\n",
              "      <script>\n",
              "        const buttonEl =\n",
              "          document.querySelector('#df-ab213963-6d9c-40b0-bca5-f6e999cd9d65 button.colab-df-convert');\n",
              "        buttonEl.style.display =\n",
              "          google.colab.kernel.accessAllowed ? 'block' : 'none';\n",
              "\n",
              "        async function convertToInteractive(key) {\n",
              "          const element = document.querySelector('#df-ab213963-6d9c-40b0-bca5-f6e999cd9d65');\n",
              "          const dataTable =\n",
              "            await google.colab.kernel.invokeFunction('convertToInteractive',\n",
              "                                                     [key], {});\n",
              "          if (!dataTable) return;\n",
              "\n",
              "          const docLinkHtml = 'Like what you see? Visit the ' +\n",
              "            '<a target=\"_blank\" href=https://colab.research.google.com/notebooks/data_table.ipynb>data table notebook</a>'\n",
              "            + ' to learn more about interactive tables.';\n",
              "          element.innerHTML = '';\n",
              "          dataTable['output_type'] = 'display_data';\n",
              "          await google.colab.output.renderOutput(dataTable, element);\n",
              "          const docLink = document.createElement('div');\n",
              "          docLink.innerHTML = docLinkHtml;\n",
              "          element.appendChild(docLink);\n",
              "        }\n",
              "      </script>\n",
              "    </div>\n",
              "  </div>\n",
              "  "
            ]
          },
          "metadata": {},
          "execution_count": 117
        }
      ]
    },
    {
      "cell_type": "code",
      "source": [
        "df_one = df.loc[(df['Score'] == 1)]\n",
        "df_one = df_one.sample(500)\n",
        "df_one.drop(columns=['ProductId', 'UserId', 'ProfileName', 'HelpfulnessNumerator', 'HelpfulnessDenominator', 'Time', 'Summary'], inplace=True)\n",
        "df_one.head()"
      ],
      "metadata": {
        "colab": {
          "base_uri": "https://localhost:8080/",
          "height": 237
        },
        "id": "CH2tLcuk7YSF",
        "outputId": "307bad6a-4fe2-4cc2-c386-4735ab73f2d9"
      },
      "execution_count": null,
      "outputs": [
        {
          "output_type": "execute_result",
          "data": {
            "text/plain": [
              "        Score                                               Text\n",
              "Id                                                              \n",
              "175881      1  So I get my case after feeling sucked into buy...\n",
              "449402      1  I just purchased this jerky from a local store...\n",
              "348747      1  Warning, mine has stopped pumping water inside...\n",
              "539145      1  I ordered these delicious truffles once before...\n",
              "433752      1  As other reviewers have noted, this thing grow..."
            ],
            "text/html": [
              "\n",
              "  <div id=\"df-304167fe-cb33-445d-809f-b90033d073cf\">\n",
              "    <div class=\"colab-df-container\">\n",
              "      <div>\n",
              "<style scoped>\n",
              "    .dataframe tbody tr th:only-of-type {\n",
              "        vertical-align: middle;\n",
              "    }\n",
              "\n",
              "    .dataframe tbody tr th {\n",
              "        vertical-align: top;\n",
              "    }\n",
              "\n",
              "    .dataframe thead th {\n",
              "        text-align: right;\n",
              "    }\n",
              "</style>\n",
              "<table border=\"1\" class=\"dataframe\">\n",
              "  <thead>\n",
              "    <tr style=\"text-align: right;\">\n",
              "      <th></th>\n",
              "      <th>Score</th>\n",
              "      <th>Text</th>\n",
              "    </tr>\n",
              "    <tr>\n",
              "      <th>Id</th>\n",
              "      <th></th>\n",
              "      <th></th>\n",
              "    </tr>\n",
              "  </thead>\n",
              "  <tbody>\n",
              "    <tr>\n",
              "      <th>175881</th>\n",
              "      <td>1</td>\n",
              "      <td>So I get my case after feeling sucked into buy...</td>\n",
              "    </tr>\n",
              "    <tr>\n",
              "      <th>449402</th>\n",
              "      <td>1</td>\n",
              "      <td>I just purchased this jerky from a local store...</td>\n",
              "    </tr>\n",
              "    <tr>\n",
              "      <th>348747</th>\n",
              "      <td>1</td>\n",
              "      <td>Warning, mine has stopped pumping water inside...</td>\n",
              "    </tr>\n",
              "    <tr>\n",
              "      <th>539145</th>\n",
              "      <td>1</td>\n",
              "      <td>I ordered these delicious truffles once before...</td>\n",
              "    </tr>\n",
              "    <tr>\n",
              "      <th>433752</th>\n",
              "      <td>1</td>\n",
              "      <td>As other reviewers have noted, this thing grow...</td>\n",
              "    </tr>\n",
              "  </tbody>\n",
              "</table>\n",
              "</div>\n",
              "      <button class=\"colab-df-convert\" onclick=\"convertToInteractive('df-304167fe-cb33-445d-809f-b90033d073cf')\"\n",
              "              title=\"Convert this dataframe to an interactive table.\"\n",
              "              style=\"display:none;\">\n",
              "        \n",
              "  <svg xmlns=\"http://www.w3.org/2000/svg\" height=\"24px\"viewBox=\"0 0 24 24\"\n",
              "       width=\"24px\">\n",
              "    <path d=\"M0 0h24v24H0V0z\" fill=\"none\"/>\n",
              "    <path d=\"M18.56 5.44l.94 2.06.94-2.06 2.06-.94-2.06-.94-.94-2.06-.94 2.06-2.06.94zm-11 1L8.5 8.5l.94-2.06 2.06-.94-2.06-.94L8.5 2.5l-.94 2.06-2.06.94zm10 10l.94 2.06.94-2.06 2.06-.94-2.06-.94-.94-2.06-.94 2.06-2.06.94z\"/><path d=\"M17.41 7.96l-1.37-1.37c-.4-.4-.92-.59-1.43-.59-.52 0-1.04.2-1.43.59L10.3 9.45l-7.72 7.72c-.78.78-.78 2.05 0 2.83L4 21.41c.39.39.9.59 1.41.59.51 0 1.02-.2 1.41-.59l7.78-7.78 2.81-2.81c.8-.78.8-2.07 0-2.86zM5.41 20L4 18.59l7.72-7.72 1.47 1.35L5.41 20z\"/>\n",
              "  </svg>\n",
              "      </button>\n",
              "      \n",
              "  <style>\n",
              "    .colab-df-container {\n",
              "      display:flex;\n",
              "      flex-wrap:wrap;\n",
              "      gap: 12px;\n",
              "    }\n",
              "\n",
              "    .colab-df-convert {\n",
              "      background-color: #E8F0FE;\n",
              "      border: none;\n",
              "      border-radius: 50%;\n",
              "      cursor: pointer;\n",
              "      display: none;\n",
              "      fill: #1967D2;\n",
              "      height: 32px;\n",
              "      padding: 0 0 0 0;\n",
              "      width: 32px;\n",
              "    }\n",
              "\n",
              "    .colab-df-convert:hover {\n",
              "      background-color: #E2EBFA;\n",
              "      box-shadow: 0px 1px 2px rgba(60, 64, 67, 0.3), 0px 1px 3px 1px rgba(60, 64, 67, 0.15);\n",
              "      fill: #174EA6;\n",
              "    }\n",
              "\n",
              "    [theme=dark] .colab-df-convert {\n",
              "      background-color: #3B4455;\n",
              "      fill: #D2E3FC;\n",
              "    }\n",
              "\n",
              "    [theme=dark] .colab-df-convert:hover {\n",
              "      background-color: #434B5C;\n",
              "      box-shadow: 0px 1px 3px 1px rgba(0, 0, 0, 0.15);\n",
              "      filter: drop-shadow(0px 1px 2px rgba(0, 0, 0, 0.3));\n",
              "      fill: #FFFFFF;\n",
              "    }\n",
              "  </style>\n",
              "\n",
              "      <script>\n",
              "        const buttonEl =\n",
              "          document.querySelector('#df-304167fe-cb33-445d-809f-b90033d073cf button.colab-df-convert');\n",
              "        buttonEl.style.display =\n",
              "          google.colab.kernel.accessAllowed ? 'block' : 'none';\n",
              "\n",
              "        async function convertToInteractive(key) {\n",
              "          const element = document.querySelector('#df-304167fe-cb33-445d-809f-b90033d073cf');\n",
              "          const dataTable =\n",
              "            await google.colab.kernel.invokeFunction('convertToInteractive',\n",
              "                                                     [key], {});\n",
              "          if (!dataTable) return;\n",
              "\n",
              "          const docLinkHtml = 'Like what you see? Visit the ' +\n",
              "            '<a target=\"_blank\" href=https://colab.research.google.com/notebooks/data_table.ipynb>data table notebook</a>'\n",
              "            + ' to learn more about interactive tables.';\n",
              "          element.innerHTML = '';\n",
              "          dataTable['output_type'] = 'display_data';\n",
              "          await google.colab.output.renderOutput(dataTable, element);\n",
              "          const docLink = document.createElement('div');\n",
              "          docLink.innerHTML = docLinkHtml;\n",
              "          element.appendChild(docLink);\n",
              "        }\n",
              "      </script>\n",
              "    </div>\n",
              "  </div>\n",
              "  "
            ]
          },
          "metadata": {},
          "execution_count": 118
        }
      ]
    },
    {
      "cell_type": "code",
      "source": [
        "df_one.info()"
      ],
      "metadata": {
        "colab": {
          "base_uri": "https://localhost:8080/"
        },
        "id": "wshMBTW2A7v4",
        "outputId": "c006c6b0-b382-43dd-e4e9-3d7998087fce"
      },
      "execution_count": null,
      "outputs": [
        {
          "output_type": "stream",
          "name": "stdout",
          "text": [
            "<class 'pandas.core.frame.DataFrame'>\n",
            "Int64Index: 500 entries, 124468 to 251386\n",
            "Data columns (total 2 columns):\n",
            " #   Column  Non-Null Count  Dtype \n",
            "---  ------  --------------  ----- \n",
            " 0   Score   500 non-null    int64 \n",
            " 1   Text    500 non-null    object\n",
            "dtypes: int64(1), object(1)\n",
            "memory usage: 11.7+ KB\n"
          ]
        }
      ]
    },
    {
      "cell_type": "code",
      "source": [
        "df = pd.concat((df_one, df_two, df_three, df_four, df_five), axis=0).sample(frac=1)\n",
        "df.head(20)"
      ],
      "metadata": {
        "colab": {
          "base_uri": "https://localhost:8080/",
          "height": 708
        },
        "id": "X8UUH5E_a1dW",
        "outputId": "d0c92e93-7e62-4adf-966f-d1c98cbf13c9"
      },
      "execution_count": null,
      "outputs": [
        {
          "output_type": "execute_result",
          "data": {
            "text/plain": [
              "        Score                                               Text\n",
              "Id                                                              \n",
              "292641      2  I've purchased a couple of cases of 20 ounce c...\n",
              "535910      4  By far,this is the best flavored K cup coffee ...\n",
              "176684      3  I fell in love with yellow chicken curry after...\n",
              "197659      1  I bought this product because I was looking fo...\n",
              "76834       1  this is the worst tea ever.  you definitely ge...\n",
              "225393      1  the flowers did not look like they did in the ...\n",
              "236942      4  Dried fruits and nuts constitute a fairly good...\n",
              "113593      2  I bought this steak for my father in law for C...\n",
              "244584      1  Don't know why, but this version tasted terrib...\n",
              "441578      1  Just bought this exact tub for $7.24 at my loc...\n",
              "1386        4  I bought the NuNaturals White Stevia with Malt...\n",
              "139685      3  The first test for a new canned cat food is th...\n",
              "95326       4  Our kids (2 and 4) love these bars. They've be...\n",
              "223635      4  Half the box went for breakfast and I ended up...\n",
              "525604      4  Chocolate Chip cookies have become kind of bor...\n",
              "139772      4  We have two cats, both of whom can be finicky ...\n",
              "262606      1  Couldn't find my usual healthier type of cheet...\n",
              "515932      5  I was a bit nervous ordering this - considerin...\n",
              "158434      1  These were really awful. After reading the gre...\n",
              "45804       2  It seemed easy enough to make. Basically just ..."
            ],
            "text/html": [
              "\n",
              "  <div id=\"df-7ed71459-e87a-409f-a54b-a67e09bd90f7\">\n",
              "    <div class=\"colab-df-container\">\n",
              "      <div>\n",
              "<style scoped>\n",
              "    .dataframe tbody tr th:only-of-type {\n",
              "        vertical-align: middle;\n",
              "    }\n",
              "\n",
              "    .dataframe tbody tr th {\n",
              "        vertical-align: top;\n",
              "    }\n",
              "\n",
              "    .dataframe thead th {\n",
              "        text-align: right;\n",
              "    }\n",
              "</style>\n",
              "<table border=\"1\" class=\"dataframe\">\n",
              "  <thead>\n",
              "    <tr style=\"text-align: right;\">\n",
              "      <th></th>\n",
              "      <th>Score</th>\n",
              "      <th>Text</th>\n",
              "    </tr>\n",
              "    <tr>\n",
              "      <th>Id</th>\n",
              "      <th></th>\n",
              "      <th></th>\n",
              "    </tr>\n",
              "  </thead>\n",
              "  <tbody>\n",
              "    <tr>\n",
              "      <th>292641</th>\n",
              "      <td>2</td>\n",
              "      <td>I've purchased a couple of cases of 20 ounce c...</td>\n",
              "    </tr>\n",
              "    <tr>\n",
              "      <th>535910</th>\n",
              "      <td>4</td>\n",
              "      <td>By far,this is the best flavored K cup coffee ...</td>\n",
              "    </tr>\n",
              "    <tr>\n",
              "      <th>176684</th>\n",
              "      <td>3</td>\n",
              "      <td>I fell in love with yellow chicken curry after...</td>\n",
              "    </tr>\n",
              "    <tr>\n",
              "      <th>197659</th>\n",
              "      <td>1</td>\n",
              "      <td>I bought this product because I was looking fo...</td>\n",
              "    </tr>\n",
              "    <tr>\n",
              "      <th>76834</th>\n",
              "      <td>1</td>\n",
              "      <td>this is the worst tea ever.  you definitely ge...</td>\n",
              "    </tr>\n",
              "    <tr>\n",
              "      <th>225393</th>\n",
              "      <td>1</td>\n",
              "      <td>the flowers did not look like they did in the ...</td>\n",
              "    </tr>\n",
              "    <tr>\n",
              "      <th>236942</th>\n",
              "      <td>4</td>\n",
              "      <td>Dried fruits and nuts constitute a fairly good...</td>\n",
              "    </tr>\n",
              "    <tr>\n",
              "      <th>113593</th>\n",
              "      <td>2</td>\n",
              "      <td>I bought this steak for my father in law for C...</td>\n",
              "    </tr>\n",
              "    <tr>\n",
              "      <th>244584</th>\n",
              "      <td>1</td>\n",
              "      <td>Don't know why, but this version tasted terrib...</td>\n",
              "    </tr>\n",
              "    <tr>\n",
              "      <th>441578</th>\n",
              "      <td>1</td>\n",
              "      <td>Just bought this exact tub for $7.24 at my loc...</td>\n",
              "    </tr>\n",
              "    <tr>\n",
              "      <th>1386</th>\n",
              "      <td>4</td>\n",
              "      <td>I bought the NuNaturals White Stevia with Malt...</td>\n",
              "    </tr>\n",
              "    <tr>\n",
              "      <th>139685</th>\n",
              "      <td>3</td>\n",
              "      <td>The first test for a new canned cat food is th...</td>\n",
              "    </tr>\n",
              "    <tr>\n",
              "      <th>95326</th>\n",
              "      <td>4</td>\n",
              "      <td>Our kids (2 and 4) love these bars. They've be...</td>\n",
              "    </tr>\n",
              "    <tr>\n",
              "      <th>223635</th>\n",
              "      <td>4</td>\n",
              "      <td>Half the box went for breakfast and I ended up...</td>\n",
              "    </tr>\n",
              "    <tr>\n",
              "      <th>525604</th>\n",
              "      <td>4</td>\n",
              "      <td>Chocolate Chip cookies have become kind of bor...</td>\n",
              "    </tr>\n",
              "    <tr>\n",
              "      <th>139772</th>\n",
              "      <td>4</td>\n",
              "      <td>We have two cats, both of whom can be finicky ...</td>\n",
              "    </tr>\n",
              "    <tr>\n",
              "      <th>262606</th>\n",
              "      <td>1</td>\n",
              "      <td>Couldn't find my usual healthier type of cheet...</td>\n",
              "    </tr>\n",
              "    <tr>\n",
              "      <th>515932</th>\n",
              "      <td>5</td>\n",
              "      <td>I was a bit nervous ordering this - considerin...</td>\n",
              "    </tr>\n",
              "    <tr>\n",
              "      <th>158434</th>\n",
              "      <td>1</td>\n",
              "      <td>These were really awful. After reading the gre...</td>\n",
              "    </tr>\n",
              "    <tr>\n",
              "      <th>45804</th>\n",
              "      <td>2</td>\n",
              "      <td>It seemed easy enough to make. Basically just ...</td>\n",
              "    </tr>\n",
              "  </tbody>\n",
              "</table>\n",
              "</div>\n",
              "      <button class=\"colab-df-convert\" onclick=\"convertToInteractive('df-7ed71459-e87a-409f-a54b-a67e09bd90f7')\"\n",
              "              title=\"Convert this dataframe to an interactive table.\"\n",
              "              style=\"display:none;\">\n",
              "        \n",
              "  <svg xmlns=\"http://www.w3.org/2000/svg\" height=\"24px\"viewBox=\"0 0 24 24\"\n",
              "       width=\"24px\">\n",
              "    <path d=\"M0 0h24v24H0V0z\" fill=\"none\"/>\n",
              "    <path d=\"M18.56 5.44l.94 2.06.94-2.06 2.06-.94-2.06-.94-.94-2.06-.94 2.06-2.06.94zm-11 1L8.5 8.5l.94-2.06 2.06-.94-2.06-.94L8.5 2.5l-.94 2.06-2.06.94zm10 10l.94 2.06.94-2.06 2.06-.94-2.06-.94-.94-2.06-.94 2.06-2.06.94z\"/><path d=\"M17.41 7.96l-1.37-1.37c-.4-.4-.92-.59-1.43-.59-.52 0-1.04.2-1.43.59L10.3 9.45l-7.72 7.72c-.78.78-.78 2.05 0 2.83L4 21.41c.39.39.9.59 1.41.59.51 0 1.02-.2 1.41-.59l7.78-7.78 2.81-2.81c.8-.78.8-2.07 0-2.86zM5.41 20L4 18.59l7.72-7.72 1.47 1.35L5.41 20z\"/>\n",
              "  </svg>\n",
              "      </button>\n",
              "      \n",
              "  <style>\n",
              "    .colab-df-container {\n",
              "      display:flex;\n",
              "      flex-wrap:wrap;\n",
              "      gap: 12px;\n",
              "    }\n",
              "\n",
              "    .colab-df-convert {\n",
              "      background-color: #E8F0FE;\n",
              "      border: none;\n",
              "      border-radius: 50%;\n",
              "      cursor: pointer;\n",
              "      display: none;\n",
              "      fill: #1967D2;\n",
              "      height: 32px;\n",
              "      padding: 0 0 0 0;\n",
              "      width: 32px;\n",
              "    }\n",
              "\n",
              "    .colab-df-convert:hover {\n",
              "      background-color: #E2EBFA;\n",
              "      box-shadow: 0px 1px 2px rgba(60, 64, 67, 0.3), 0px 1px 3px 1px rgba(60, 64, 67, 0.15);\n",
              "      fill: #174EA6;\n",
              "    }\n",
              "\n",
              "    [theme=dark] .colab-df-convert {\n",
              "      background-color: #3B4455;\n",
              "      fill: #D2E3FC;\n",
              "    }\n",
              "\n",
              "    [theme=dark] .colab-df-convert:hover {\n",
              "      background-color: #434B5C;\n",
              "      box-shadow: 0px 1px 3px 1px rgba(0, 0, 0, 0.15);\n",
              "      filter: drop-shadow(0px 1px 2px rgba(0, 0, 0, 0.3));\n",
              "      fill: #FFFFFF;\n",
              "    }\n",
              "  </style>\n",
              "\n",
              "      <script>\n",
              "        const buttonEl =\n",
              "          document.querySelector('#df-7ed71459-e87a-409f-a54b-a67e09bd90f7 button.colab-df-convert');\n",
              "        buttonEl.style.display =\n",
              "          google.colab.kernel.accessAllowed ? 'block' : 'none';\n",
              "\n",
              "        async function convertToInteractive(key) {\n",
              "          const element = document.querySelector('#df-7ed71459-e87a-409f-a54b-a67e09bd90f7');\n",
              "          const dataTable =\n",
              "            await google.colab.kernel.invokeFunction('convertToInteractive',\n",
              "                                                     [key], {});\n",
              "          if (!dataTable) return;\n",
              "\n",
              "          const docLinkHtml = 'Like what you see? Visit the ' +\n",
              "            '<a target=\"_blank\" href=https://colab.research.google.com/notebooks/data_table.ipynb>data table notebook</a>'\n",
              "            + ' to learn more about interactive tables.';\n",
              "          element.innerHTML = '';\n",
              "          dataTable['output_type'] = 'display_data';\n",
              "          await google.colab.output.renderOutput(dataTable, element);\n",
              "          const docLink = document.createElement('div');\n",
              "          docLink.innerHTML = docLinkHtml;\n",
              "          element.appendChild(docLink);\n",
              "        }\n",
              "      </script>\n",
              "    </div>\n",
              "  </div>\n",
              "  "
            ]
          },
          "metadata": {},
          "execution_count": 119
        }
      ]
    },
    {
      "cell_type": "code",
      "source": [
        "#df = df.to_csv('/content/drive/MyDrive/Colab Notebooks/df_balanced.csv')"
      ],
      "metadata": {
        "id": "PF3TEswZ9r2P"
      },
      "execution_count": null,
      "outputs": []
    },
    {
      "cell_type": "code",
      "source": [
        "df = pd.read_csv('/content/drive/MyDrive/Colab Notebooks/df_balanced.csv')\n",
        "df.head()"
      ],
      "metadata": {
        "colab": {
          "base_uri": "https://localhost:8080/",
          "height": 206
        },
        "id": "xRxEYILnJQYw",
        "outputId": "ca35a34a-e047-46ba-eb78-801ef64021c7"
      },
      "execution_count": null,
      "outputs": [
        {
          "output_type": "execute_result",
          "data": {
            "text/plain": [
              "       Id  Score                                               Text\n",
              "0  553478      5  All products were shipped quickly.  They are v...\n",
              "1  231270      5  The chocolate flavor is not too sweet, relies ...\n",
              "2  105217      3  I ordered this for a hostess gift. So I don't ...\n",
              "3  131126      5  Great value, subscribe and save is the way to ...\n",
              "4   49047      3  This product looks just as advertised, and it ..."
            ],
            "text/html": [
              "\n",
              "  <div id=\"df-01ed491d-cb67-40df-ab00-0c81f3f7e2c6\">\n",
              "    <div class=\"colab-df-container\">\n",
              "      <div>\n",
              "<style scoped>\n",
              "    .dataframe tbody tr th:only-of-type {\n",
              "        vertical-align: middle;\n",
              "    }\n",
              "\n",
              "    .dataframe tbody tr th {\n",
              "        vertical-align: top;\n",
              "    }\n",
              "\n",
              "    .dataframe thead th {\n",
              "        text-align: right;\n",
              "    }\n",
              "</style>\n",
              "<table border=\"1\" class=\"dataframe\">\n",
              "  <thead>\n",
              "    <tr style=\"text-align: right;\">\n",
              "      <th></th>\n",
              "      <th>Id</th>\n",
              "      <th>Score</th>\n",
              "      <th>Text</th>\n",
              "    </tr>\n",
              "  </thead>\n",
              "  <tbody>\n",
              "    <tr>\n",
              "      <th>0</th>\n",
              "      <td>553478</td>\n",
              "      <td>5</td>\n",
              "      <td>All products were shipped quickly.  They are v...</td>\n",
              "    </tr>\n",
              "    <tr>\n",
              "      <th>1</th>\n",
              "      <td>231270</td>\n",
              "      <td>5</td>\n",
              "      <td>The chocolate flavor is not too sweet, relies ...</td>\n",
              "    </tr>\n",
              "    <tr>\n",
              "      <th>2</th>\n",
              "      <td>105217</td>\n",
              "      <td>3</td>\n",
              "      <td>I ordered this for a hostess gift. So I don't ...</td>\n",
              "    </tr>\n",
              "    <tr>\n",
              "      <th>3</th>\n",
              "      <td>131126</td>\n",
              "      <td>5</td>\n",
              "      <td>Great value, subscribe and save is the way to ...</td>\n",
              "    </tr>\n",
              "    <tr>\n",
              "      <th>4</th>\n",
              "      <td>49047</td>\n",
              "      <td>3</td>\n",
              "      <td>This product looks just as advertised, and it ...</td>\n",
              "    </tr>\n",
              "  </tbody>\n",
              "</table>\n",
              "</div>\n",
              "      <button class=\"colab-df-convert\" onclick=\"convertToInteractive('df-01ed491d-cb67-40df-ab00-0c81f3f7e2c6')\"\n",
              "              title=\"Convert this dataframe to an interactive table.\"\n",
              "              style=\"display:none;\">\n",
              "        \n",
              "  <svg xmlns=\"http://www.w3.org/2000/svg\" height=\"24px\"viewBox=\"0 0 24 24\"\n",
              "       width=\"24px\">\n",
              "    <path d=\"M0 0h24v24H0V0z\" fill=\"none\"/>\n",
              "    <path d=\"M18.56 5.44l.94 2.06.94-2.06 2.06-.94-2.06-.94-.94-2.06-.94 2.06-2.06.94zm-11 1L8.5 8.5l.94-2.06 2.06-.94-2.06-.94L8.5 2.5l-.94 2.06-2.06.94zm10 10l.94 2.06.94-2.06 2.06-.94-2.06-.94-.94-2.06-.94 2.06-2.06.94z\"/><path d=\"M17.41 7.96l-1.37-1.37c-.4-.4-.92-.59-1.43-.59-.52 0-1.04.2-1.43.59L10.3 9.45l-7.72 7.72c-.78.78-.78 2.05 0 2.83L4 21.41c.39.39.9.59 1.41.59.51 0 1.02-.2 1.41-.59l7.78-7.78 2.81-2.81c.8-.78.8-2.07 0-2.86zM5.41 20L4 18.59l7.72-7.72 1.47 1.35L5.41 20z\"/>\n",
              "  </svg>\n",
              "      </button>\n",
              "      \n",
              "  <style>\n",
              "    .colab-df-container {\n",
              "      display:flex;\n",
              "      flex-wrap:wrap;\n",
              "      gap: 12px;\n",
              "    }\n",
              "\n",
              "    .colab-df-convert {\n",
              "      background-color: #E8F0FE;\n",
              "      border: none;\n",
              "      border-radius: 50%;\n",
              "      cursor: pointer;\n",
              "      display: none;\n",
              "      fill: #1967D2;\n",
              "      height: 32px;\n",
              "      padding: 0 0 0 0;\n",
              "      width: 32px;\n",
              "    }\n",
              "\n",
              "    .colab-df-convert:hover {\n",
              "      background-color: #E2EBFA;\n",
              "      box-shadow: 0px 1px 2px rgba(60, 64, 67, 0.3), 0px 1px 3px 1px rgba(60, 64, 67, 0.15);\n",
              "      fill: #174EA6;\n",
              "    }\n",
              "\n",
              "    [theme=dark] .colab-df-convert {\n",
              "      background-color: #3B4455;\n",
              "      fill: #D2E3FC;\n",
              "    }\n",
              "\n",
              "    [theme=dark] .colab-df-convert:hover {\n",
              "      background-color: #434B5C;\n",
              "      box-shadow: 0px 1px 3px 1px rgba(0, 0, 0, 0.15);\n",
              "      filter: drop-shadow(0px 1px 2px rgba(0, 0, 0, 0.3));\n",
              "      fill: #FFFFFF;\n",
              "    }\n",
              "  </style>\n",
              "\n",
              "      <script>\n",
              "        const buttonEl =\n",
              "          document.querySelector('#df-01ed491d-cb67-40df-ab00-0c81f3f7e2c6 button.colab-df-convert');\n",
              "        buttonEl.style.display =\n",
              "          google.colab.kernel.accessAllowed ? 'block' : 'none';\n",
              "\n",
              "        async function convertToInteractive(key) {\n",
              "          const element = document.querySelector('#df-01ed491d-cb67-40df-ab00-0c81f3f7e2c6');\n",
              "          const dataTable =\n",
              "            await google.colab.kernel.invokeFunction('convertToInteractive',\n",
              "                                                     [key], {});\n",
              "          if (!dataTable) return;\n",
              "\n",
              "          const docLinkHtml = 'Like what you see? Visit the ' +\n",
              "            '<a target=\"_blank\" href=https://colab.research.google.com/notebooks/data_table.ipynb>data table notebook</a>'\n",
              "            + ' to learn more about interactive tables.';\n",
              "          element.innerHTML = '';\n",
              "          dataTable['output_type'] = 'display_data';\n",
              "          await google.colab.output.renderOutput(dataTable, element);\n",
              "          const docLink = document.createElement('div');\n",
              "          docLink.innerHTML = docLinkHtml;\n",
              "          element.appendChild(docLink);\n",
              "        }\n",
              "      </script>\n",
              "    </div>\n",
              "  </div>\n",
              "  "
            ]
          },
          "metadata": {},
          "execution_count": 332
        }
      ]
    },
    {
      "cell_type": "code",
      "source": [
        "df = df[df['Score'] != 3]\n",
        "df['Sentiment'] = df['Score'].apply(lambda rating : +1 if rating > 3 else 0)\n",
        "df.head(10)"
      ],
      "metadata": {
        "colab": {
          "base_uri": "https://localhost:8080/",
          "height": 474
        },
        "id": "enTVW5KQ-Xa2",
        "outputId": "9aa64774-066a-4e0c-ff8b-a921a493f340"
      },
      "execution_count": null,
      "outputs": [
        {
          "output_type": "stream",
          "name": "stderr",
          "text": [
            "<ipython-input-333-e59acf490cac>:2: SettingWithCopyWarning: \n",
            "A value is trying to be set on a copy of a slice from a DataFrame.\n",
            "Try using .loc[row_indexer,col_indexer] = value instead\n",
            "\n",
            "See the caveats in the documentation: https://pandas.pydata.org/pandas-docs/stable/user_guide/indexing.html#returning-a-view-versus-a-copy\n",
            "  df['Sentiment'] = df['Score'].apply(lambda rating : +1 if rating > 3 else 0)\n"
          ]
        },
        {
          "output_type": "execute_result",
          "data": {
            "text/plain": [
              "        Id  Score                                               Text  \\\n",
              "0   553478      5  All products were shipped quickly.  They are v...   \n",
              "1   231270      5  The chocolate flavor is not too sweet, relies ...   \n",
              "3   131126      5  Great value, subscribe and save is the way to ...   \n",
              "6   564034      2  I purchased this bone based on the research an...   \n",
              "7    81109      2  I bought these after recently being diagnosed ...   \n",
              "8    23082      4  My impressions:  The coffee tastes fine but is...   \n",
              "9    56599      2  I was really looking forward to trying these c...   \n",
              "11   51853      1  Having a hard time locating this product in th...   \n",
              "12  194686      4  I first bought this in a local Hispanic market...   \n",
              "16  333960      4  Although I really do like Skinners Raisin Bran...   \n",
              "\n",
              "    Sentiment  \n",
              "0           1  \n",
              "1           1  \n",
              "3           1  \n",
              "6           0  \n",
              "7           0  \n",
              "8           1  \n",
              "9           0  \n",
              "11          0  \n",
              "12          1  \n",
              "16          1  "
            ],
            "text/html": [
              "\n",
              "  <div id=\"df-062c470b-7c69-44d8-aad7-79871b9be4d2\">\n",
              "    <div class=\"colab-df-container\">\n",
              "      <div>\n",
              "<style scoped>\n",
              "    .dataframe tbody tr th:only-of-type {\n",
              "        vertical-align: middle;\n",
              "    }\n",
              "\n",
              "    .dataframe tbody tr th {\n",
              "        vertical-align: top;\n",
              "    }\n",
              "\n",
              "    .dataframe thead th {\n",
              "        text-align: right;\n",
              "    }\n",
              "</style>\n",
              "<table border=\"1\" class=\"dataframe\">\n",
              "  <thead>\n",
              "    <tr style=\"text-align: right;\">\n",
              "      <th></th>\n",
              "      <th>Id</th>\n",
              "      <th>Score</th>\n",
              "      <th>Text</th>\n",
              "      <th>Sentiment</th>\n",
              "    </tr>\n",
              "  </thead>\n",
              "  <tbody>\n",
              "    <tr>\n",
              "      <th>0</th>\n",
              "      <td>553478</td>\n",
              "      <td>5</td>\n",
              "      <td>All products were shipped quickly.  They are v...</td>\n",
              "      <td>1</td>\n",
              "    </tr>\n",
              "    <tr>\n",
              "      <th>1</th>\n",
              "      <td>231270</td>\n",
              "      <td>5</td>\n",
              "      <td>The chocolate flavor is not too sweet, relies ...</td>\n",
              "      <td>1</td>\n",
              "    </tr>\n",
              "    <tr>\n",
              "      <th>3</th>\n",
              "      <td>131126</td>\n",
              "      <td>5</td>\n",
              "      <td>Great value, subscribe and save is the way to ...</td>\n",
              "      <td>1</td>\n",
              "    </tr>\n",
              "    <tr>\n",
              "      <th>6</th>\n",
              "      <td>564034</td>\n",
              "      <td>2</td>\n",
              "      <td>I purchased this bone based on the research an...</td>\n",
              "      <td>0</td>\n",
              "    </tr>\n",
              "    <tr>\n",
              "      <th>7</th>\n",
              "      <td>81109</td>\n",
              "      <td>2</td>\n",
              "      <td>I bought these after recently being diagnosed ...</td>\n",
              "      <td>0</td>\n",
              "    </tr>\n",
              "    <tr>\n",
              "      <th>8</th>\n",
              "      <td>23082</td>\n",
              "      <td>4</td>\n",
              "      <td>My impressions:  The coffee tastes fine but is...</td>\n",
              "      <td>1</td>\n",
              "    </tr>\n",
              "    <tr>\n",
              "      <th>9</th>\n",
              "      <td>56599</td>\n",
              "      <td>2</td>\n",
              "      <td>I was really looking forward to trying these c...</td>\n",
              "      <td>0</td>\n",
              "    </tr>\n",
              "    <tr>\n",
              "      <th>11</th>\n",
              "      <td>51853</td>\n",
              "      <td>1</td>\n",
              "      <td>Having a hard time locating this product in th...</td>\n",
              "      <td>0</td>\n",
              "    </tr>\n",
              "    <tr>\n",
              "      <th>12</th>\n",
              "      <td>194686</td>\n",
              "      <td>4</td>\n",
              "      <td>I first bought this in a local Hispanic market...</td>\n",
              "      <td>1</td>\n",
              "    </tr>\n",
              "    <tr>\n",
              "      <th>16</th>\n",
              "      <td>333960</td>\n",
              "      <td>4</td>\n",
              "      <td>Although I really do like Skinners Raisin Bran...</td>\n",
              "      <td>1</td>\n",
              "    </tr>\n",
              "  </tbody>\n",
              "</table>\n",
              "</div>\n",
              "      <button class=\"colab-df-convert\" onclick=\"convertToInteractive('df-062c470b-7c69-44d8-aad7-79871b9be4d2')\"\n",
              "              title=\"Convert this dataframe to an interactive table.\"\n",
              "              style=\"display:none;\">\n",
              "        \n",
              "  <svg xmlns=\"http://www.w3.org/2000/svg\" height=\"24px\"viewBox=\"0 0 24 24\"\n",
              "       width=\"24px\">\n",
              "    <path d=\"M0 0h24v24H0V0z\" fill=\"none\"/>\n",
              "    <path d=\"M18.56 5.44l.94 2.06.94-2.06 2.06-.94-2.06-.94-.94-2.06-.94 2.06-2.06.94zm-11 1L8.5 8.5l.94-2.06 2.06-.94-2.06-.94L8.5 2.5l-.94 2.06-2.06.94zm10 10l.94 2.06.94-2.06 2.06-.94-2.06-.94-.94-2.06-.94 2.06-2.06.94z\"/><path d=\"M17.41 7.96l-1.37-1.37c-.4-.4-.92-.59-1.43-.59-.52 0-1.04.2-1.43.59L10.3 9.45l-7.72 7.72c-.78.78-.78 2.05 0 2.83L4 21.41c.39.39.9.59 1.41.59.51 0 1.02-.2 1.41-.59l7.78-7.78 2.81-2.81c.8-.78.8-2.07 0-2.86zM5.41 20L4 18.59l7.72-7.72 1.47 1.35L5.41 20z\"/>\n",
              "  </svg>\n",
              "      </button>\n",
              "      \n",
              "  <style>\n",
              "    .colab-df-container {\n",
              "      display:flex;\n",
              "      flex-wrap:wrap;\n",
              "      gap: 12px;\n",
              "    }\n",
              "\n",
              "    .colab-df-convert {\n",
              "      background-color: #E8F0FE;\n",
              "      border: none;\n",
              "      border-radius: 50%;\n",
              "      cursor: pointer;\n",
              "      display: none;\n",
              "      fill: #1967D2;\n",
              "      height: 32px;\n",
              "      padding: 0 0 0 0;\n",
              "      width: 32px;\n",
              "    }\n",
              "\n",
              "    .colab-df-convert:hover {\n",
              "      background-color: #E2EBFA;\n",
              "      box-shadow: 0px 1px 2px rgba(60, 64, 67, 0.3), 0px 1px 3px 1px rgba(60, 64, 67, 0.15);\n",
              "      fill: #174EA6;\n",
              "    }\n",
              "\n",
              "    [theme=dark] .colab-df-convert {\n",
              "      background-color: #3B4455;\n",
              "      fill: #D2E3FC;\n",
              "    }\n",
              "\n",
              "    [theme=dark] .colab-df-convert:hover {\n",
              "      background-color: #434B5C;\n",
              "      box-shadow: 0px 1px 3px 1px rgba(0, 0, 0, 0.15);\n",
              "      filter: drop-shadow(0px 1px 2px rgba(0, 0, 0, 0.3));\n",
              "      fill: #FFFFFF;\n",
              "    }\n",
              "  </style>\n",
              "\n",
              "      <script>\n",
              "        const buttonEl =\n",
              "          document.querySelector('#df-062c470b-7c69-44d8-aad7-79871b9be4d2 button.colab-df-convert');\n",
              "        buttonEl.style.display =\n",
              "          google.colab.kernel.accessAllowed ? 'block' : 'none';\n",
              "\n",
              "        async function convertToInteractive(key) {\n",
              "          const element = document.querySelector('#df-062c470b-7c69-44d8-aad7-79871b9be4d2');\n",
              "          const dataTable =\n",
              "            await google.colab.kernel.invokeFunction('convertToInteractive',\n",
              "                                                     [key], {});\n",
              "          if (!dataTable) return;\n",
              "\n",
              "          const docLinkHtml = 'Like what you see? Visit the ' +\n",
              "            '<a target=\"_blank\" href=https://colab.research.google.com/notebooks/data_table.ipynb>data table notebook</a>'\n",
              "            + ' to learn more about interactive tables.';\n",
              "          element.innerHTML = '';\n",
              "          dataTable['output_type'] = 'display_data';\n",
              "          await google.colab.output.renderOutput(dataTable, element);\n",
              "          const docLink = document.createElement('div');\n",
              "          docLink.innerHTML = docLinkHtml;\n",
              "          element.appendChild(docLink);\n",
              "        }\n",
              "      </script>\n",
              "    </div>\n",
              "  </div>\n",
              "  "
            ]
          },
          "metadata": {},
          "execution_count": 333
        }
      ]
    },
    {
      "cell_type": "code",
      "source": [
        "df.reset_index(drop= True , inplace= True )\n",
        "df.head()"
      ],
      "metadata": {
        "colab": {
          "base_uri": "https://localhost:8080/",
          "height": 206
        },
        "id": "if6_q7p2EH4i",
        "outputId": "e2fc04cd-cbe7-4a00-ad55-e1220adc1033"
      },
      "execution_count": null,
      "outputs": [
        {
          "output_type": "execute_result",
          "data": {
            "text/plain": [
              "       Id  Score                                               Text  Sentiment\n",
              "0  553478      5  All products were shipped quickly.  They are v...          1\n",
              "1  231270      5  The chocolate flavor is not too sweet, relies ...          1\n",
              "2  131126      5  Great value, subscribe and save is the way to ...          1\n",
              "3  564034      2  I purchased this bone based on the research an...          0\n",
              "4   81109      2  I bought these after recently being diagnosed ...          0"
            ],
            "text/html": [
              "\n",
              "  <div id=\"df-5c740cb0-5d8b-468a-8007-63a8badde5da\">\n",
              "    <div class=\"colab-df-container\">\n",
              "      <div>\n",
              "<style scoped>\n",
              "    .dataframe tbody tr th:only-of-type {\n",
              "        vertical-align: middle;\n",
              "    }\n",
              "\n",
              "    .dataframe tbody tr th {\n",
              "        vertical-align: top;\n",
              "    }\n",
              "\n",
              "    .dataframe thead th {\n",
              "        text-align: right;\n",
              "    }\n",
              "</style>\n",
              "<table border=\"1\" class=\"dataframe\">\n",
              "  <thead>\n",
              "    <tr style=\"text-align: right;\">\n",
              "      <th></th>\n",
              "      <th>Id</th>\n",
              "      <th>Score</th>\n",
              "      <th>Text</th>\n",
              "      <th>Sentiment</th>\n",
              "    </tr>\n",
              "  </thead>\n",
              "  <tbody>\n",
              "    <tr>\n",
              "      <th>0</th>\n",
              "      <td>553478</td>\n",
              "      <td>5</td>\n",
              "      <td>All products were shipped quickly.  They are v...</td>\n",
              "      <td>1</td>\n",
              "    </tr>\n",
              "    <tr>\n",
              "      <th>1</th>\n",
              "      <td>231270</td>\n",
              "      <td>5</td>\n",
              "      <td>The chocolate flavor is not too sweet, relies ...</td>\n",
              "      <td>1</td>\n",
              "    </tr>\n",
              "    <tr>\n",
              "      <th>2</th>\n",
              "      <td>131126</td>\n",
              "      <td>5</td>\n",
              "      <td>Great value, subscribe and save is the way to ...</td>\n",
              "      <td>1</td>\n",
              "    </tr>\n",
              "    <tr>\n",
              "      <th>3</th>\n",
              "      <td>564034</td>\n",
              "      <td>2</td>\n",
              "      <td>I purchased this bone based on the research an...</td>\n",
              "      <td>0</td>\n",
              "    </tr>\n",
              "    <tr>\n",
              "      <th>4</th>\n",
              "      <td>81109</td>\n",
              "      <td>2</td>\n",
              "      <td>I bought these after recently being diagnosed ...</td>\n",
              "      <td>0</td>\n",
              "    </tr>\n",
              "  </tbody>\n",
              "</table>\n",
              "</div>\n",
              "      <button class=\"colab-df-convert\" onclick=\"convertToInteractive('df-5c740cb0-5d8b-468a-8007-63a8badde5da')\"\n",
              "              title=\"Convert this dataframe to an interactive table.\"\n",
              "              style=\"display:none;\">\n",
              "        \n",
              "  <svg xmlns=\"http://www.w3.org/2000/svg\" height=\"24px\"viewBox=\"0 0 24 24\"\n",
              "       width=\"24px\">\n",
              "    <path d=\"M0 0h24v24H0V0z\" fill=\"none\"/>\n",
              "    <path d=\"M18.56 5.44l.94 2.06.94-2.06 2.06-.94-2.06-.94-.94-2.06-.94 2.06-2.06.94zm-11 1L8.5 8.5l.94-2.06 2.06-.94-2.06-.94L8.5 2.5l-.94 2.06-2.06.94zm10 10l.94 2.06.94-2.06 2.06-.94-2.06-.94-.94-2.06-.94 2.06-2.06.94z\"/><path d=\"M17.41 7.96l-1.37-1.37c-.4-.4-.92-.59-1.43-.59-.52 0-1.04.2-1.43.59L10.3 9.45l-7.72 7.72c-.78.78-.78 2.05 0 2.83L4 21.41c.39.39.9.59 1.41.59.51 0 1.02-.2 1.41-.59l7.78-7.78 2.81-2.81c.8-.78.8-2.07 0-2.86zM5.41 20L4 18.59l7.72-7.72 1.47 1.35L5.41 20z\"/>\n",
              "  </svg>\n",
              "      </button>\n",
              "      \n",
              "  <style>\n",
              "    .colab-df-container {\n",
              "      display:flex;\n",
              "      flex-wrap:wrap;\n",
              "      gap: 12px;\n",
              "    }\n",
              "\n",
              "    .colab-df-convert {\n",
              "      background-color: #E8F0FE;\n",
              "      border: none;\n",
              "      border-radius: 50%;\n",
              "      cursor: pointer;\n",
              "      display: none;\n",
              "      fill: #1967D2;\n",
              "      height: 32px;\n",
              "      padding: 0 0 0 0;\n",
              "      width: 32px;\n",
              "    }\n",
              "\n",
              "    .colab-df-convert:hover {\n",
              "      background-color: #E2EBFA;\n",
              "      box-shadow: 0px 1px 2px rgba(60, 64, 67, 0.3), 0px 1px 3px 1px rgba(60, 64, 67, 0.15);\n",
              "      fill: #174EA6;\n",
              "    }\n",
              "\n",
              "    [theme=dark] .colab-df-convert {\n",
              "      background-color: #3B4455;\n",
              "      fill: #D2E3FC;\n",
              "    }\n",
              "\n",
              "    [theme=dark] .colab-df-convert:hover {\n",
              "      background-color: #434B5C;\n",
              "      box-shadow: 0px 1px 3px 1px rgba(0, 0, 0, 0.15);\n",
              "      filter: drop-shadow(0px 1px 2px rgba(0, 0, 0, 0.3));\n",
              "      fill: #FFFFFF;\n",
              "    }\n",
              "  </style>\n",
              "\n",
              "      <script>\n",
              "        const buttonEl =\n",
              "          document.querySelector('#df-5c740cb0-5d8b-468a-8007-63a8badde5da button.colab-df-convert');\n",
              "        buttonEl.style.display =\n",
              "          google.colab.kernel.accessAllowed ? 'block' : 'none';\n",
              "\n",
              "        async function convertToInteractive(key) {\n",
              "          const element = document.querySelector('#df-5c740cb0-5d8b-468a-8007-63a8badde5da');\n",
              "          const dataTable =\n",
              "            await google.colab.kernel.invokeFunction('convertToInteractive',\n",
              "                                                     [key], {});\n",
              "          if (!dataTable) return;\n",
              "\n",
              "          const docLinkHtml = 'Like what you see? Visit the ' +\n",
              "            '<a target=\"_blank\" href=https://colab.research.google.com/notebooks/data_table.ipynb>data table notebook</a>'\n",
              "            + ' to learn more about interactive tables.';\n",
              "          element.innerHTML = '';\n",
              "          dataTable['output_type'] = 'display_data';\n",
              "          await google.colab.output.renderOutput(dataTable, element);\n",
              "          const docLink = document.createElement('div');\n",
              "          docLink.innerHTML = docLinkHtml;\n",
              "          element.appendChild(docLink);\n",
              "        }\n",
              "      </script>\n",
              "    </div>\n",
              "  </div>\n",
              "  "
            ]
          },
          "metadata": {},
          "execution_count": 334
        }
      ]
    },
    {
      "cell_type": "markdown",
      "source": [
        "# Preprocessing"
      ],
      "metadata": {
        "id": "9DZ8wfCaibFM"
      }
    },
    {
      "cell_type": "code",
      "execution_count": null,
      "metadata": {
        "colab": {
          "base_uri": "https://localhost:8080/",
          "height": 128
        },
        "id": "ZWa0x7K1uyyO",
        "outputId": "6599e1de-e9a4-400e-a839-a77342815d42"
      },
      "outputs": [
        {
          "output_type": "execute_result",
          "data": {
            "text/plain": [
              "\"i, me, my, myself, we, our, ours, ourselves, you, you're, you've, you'll, you'd, your, yours, yourself, yourselves, he, him, his, himself, she, she's, her, hers, herself, it, it's, its, itself, they, them, their, theirs, themselves, what, which, who, whom, this, that, that'll, these, those, am, is, are, was, were, be, been, being, have, has, had, having, do, does, did, doing, a, an, the, and, but, if, or, because, as, until, while, of, at, by, for, with, about, against, between, into, through, during, before, after, above, below, to, from, up, down, in, out, on, off, over, under, again, further, then, once, here, there, when, where, why, how, all, any, both, each, few, more, most, other, some, such, no, nor, not, only, own, same, so, than, too, very, s, t, can, will, just, don, don't, should, should've, now, d, ll, m, o, re, ve, y, ain, aren, aren't, couldn, couldn't, didn, didn't, doesn, doesn't, hadn, hadn't, hasn, hasn't, haven, haven't, isn, isn't, ma, mightn, mightn't, mustn, mustn't, needn, needn't, shan, shan't, shouldn, shouldn't, wasn, wasn't, weren, weren't, won, won't, wouldn, wouldn't\""
            ],
            "application/vnd.google.colaboratory.intrinsic+json": {
              "type": "string"
            }
          },
          "metadata": {},
          "execution_count": 335
        }
      ],
      "source": [
        "\", \".join(stopwords.words('english'))"
      ]
    },
    {
      "cell_type": "code",
      "execution_count": null,
      "metadata": {
        "id": "qmKb8gqxuyyO"
      },
      "outputs": [],
      "source": [
        "stop_words = stopwords.words('english')\n",
        "stop_words.extend(['br', 'href'])"
      ]
    },
    {
      "cell_type": "code",
      "source": [
        "# Create preprocess with lemmatization\n",
        "def df_preprocess_lemma(text):\n",
        "    text = text.lower()\n",
        "    text = re.sub('((www\\.[^\\s]+)|(https?://[^\\s]+)|(http?://[^\\s]+))', 'site', text)\n",
        "    text = re.sub('@[^\\s]+', 'user', text)\n",
        "    text = re.sub('[^а-яА-яa-zA-Z ]', ' ', text)\n",
        "    wnl = WordNetLemmatizer()\n",
        "    text = ' '.join([wnl.lemmatize(word) for word in text.split() if word not in stop_words])\n",
        "    return text"
      ],
      "metadata": {
        "id": "IKKKRieqambQ"
      },
      "execution_count": null,
      "outputs": []
    },
    {
      "cell_type": "code",
      "execution_count": null,
      "metadata": {
        "id": "RSZYT_f-uyyO"
      },
      "outputs": [],
      "source": [
        "df['Text'] = df['Text'].apply(df_preprocess_lemma)"
      ]
    },
    {
      "cell_type": "code",
      "source": [
        "df['Text'][3]"
      ],
      "metadata": {
        "colab": {
          "base_uri": "https://localhost:8080/",
          "height": 55
        },
        "id": "qjjUGogVjOe5",
        "outputId": "16712376-af44-485c-fdf1-66aff6d0b42c"
      },
      "execution_count": null,
      "outputs": [
        {
          "output_type": "execute_result",
          "data": {
            "text/plain": [
              "'healthy great tasting jerky tuna excellent source protein one purest cleanest form get ahi tuna jerkey made high quality tuna something find beef product omega help heart health promotes better cardiovascular health'"
            ],
            "application/vnd.google.colaboratory.intrinsic+json": {
              "type": "string"
            }
          },
          "metadata": {},
          "execution_count": 86
        }
      ]
    },
    {
      "cell_type": "markdown",
      "source": [
        "# Vectorization"
      ],
      "metadata": {
        "id": "kfxDp1PojX1h"
      }
    },
    {
      "cell_type": "code",
      "execution_count": null,
      "metadata": {
        "id": "wm3LrUwsWkVz"
      },
      "outputs": [],
      "source": [
        "vectorizer = CountVectorizer()"
      ]
    },
    {
      "cell_type": "code",
      "source": [
        "matrix = vectorizer.fit_transform(df['Text']).toarray()"
      ],
      "metadata": {
        "id": "poLtGmtJnXh_"
      },
      "execution_count": null,
      "outputs": []
    },
    {
      "cell_type": "markdown",
      "source": [],
      "metadata": {
        "id": "C42paIdWQpYO"
      }
    },
    {
      "cell_type": "code",
      "source": [
        "vectorizer = CountVectorizer(ngram_range=(1, 2))"
      ],
      "metadata": {
        "id": "_YqUzXcxPlCf"
      },
      "execution_count": null,
      "outputs": []
    },
    {
      "cell_type": "code",
      "source": [
        "matrix = vectorizer.fit_transform(df['Text']).toarray()"
      ],
      "metadata": {
        "id": "epofoeGbQgwv"
      },
      "execution_count": null,
      "outputs": []
    },
    {
      "cell_type": "markdown",
      "source": [],
      "metadata": {
        "id": "cpRH6ygoQp9w"
      }
    },
    {
      "cell_type": "code",
      "execution_count": null,
      "metadata": {
        "id": "PMlLGQ4aWkOQ"
      },
      "outputs": [],
      "source": [
        "from sklearn.feature_extraction.text import  TfidfVectorizer\n",
        "vectorizer = TfidfVectorizer(stop_words=\"english\")"
      ]
    },
    {
      "cell_type": "code",
      "source": [
        "matrix = vectorizer.fit_transform(df['Text']).toarray()"
      ],
      "metadata": {
        "id": "_bA8qYi_PqfD"
      },
      "execution_count": null,
      "outputs": []
    },
    {
      "cell_type": "markdown",
      "source": [
        "# Train_test_split"
      ],
      "metadata": {
        "id": "V12o90zzjy4q"
      }
    },
    {
      "cell_type": "code",
      "source": [
        "X = matrix\n",
        "y = df['Sentiment']"
      ],
      "metadata": {
        "id": "fXIJw_jwn0VV"
      },
      "execution_count": null,
      "outputs": []
    },
    {
      "cell_type": "code",
      "source": [
        "X_train, X_test, y_train, y_test = train_test_split(X, y, \n",
        "                                                    train_size=0.7, test_size=0.3,\n",
        "                                                    random_state=73)"
      ],
      "metadata": {
        "id": "7xGjioQejx3z"
      },
      "execution_count": null,
      "outputs": []
    },
    {
      "cell_type": "markdown",
      "source": [
        "# Sequential"
      ],
      "metadata": {
        "id": "FQpy3Y0pkNsB"
      }
    },
    {
      "cell_type": "markdown",
      "source": [
        "## Model and layers"
      ],
      "metadata": {
        "id": "inr5bvTFqtaZ"
      }
    },
    {
      "cell_type": "code",
      "source": [
        "SENTENCE_LENGTH = 72948\n",
        "num_words = 100000"
      ],
      "metadata": {
        "id": "KTwDWw0RqbTe"
      },
      "execution_count": null,
      "outputs": []
    },
    {
      "cell_type": "code",
      "source": [
        "model = models.Sequential()"
      ],
      "metadata": {
        "id": "wS2eIKdSkHGt"
      },
      "execution_count": null,
      "outputs": []
    },
    {
      "cell_type": "code",
      "source": [
        "model.add(layers.Dense(64,activation='relu',input_shape=(SENTENCE_LENGTH,)))\n",
        "model.add(layers.Dense(64, activation='relu'))\n",
        "model.add(layers.Dense(1, activation = 'sigmoid'))"
      ],
      "metadata": {
        "id": "8i8cTcutkSTB"
      },
      "execution_count": null,
      "outputs": []
    },
    {
      "cell_type": "code",
      "source": [
        "model.summary()"
      ],
      "metadata": {
        "colab": {
          "base_uri": "https://localhost:8080/"
        },
        "id": "ePMD64Hflfa1",
        "outputId": "8cce5d2d-88ce-4f83-84b5-6885d38f46f2"
      },
      "execution_count": null,
      "outputs": [
        {
          "output_type": "stream",
          "name": "stdout",
          "text": [
            "Model: \"sequential_14\"\n",
            "_________________________________________________________________\n",
            " Layer (type)                Output Shape              Param #   \n",
            "=================================================================\n",
            " dense_45 (Dense)            (None, 64)                4668736   \n",
            "                                                                 \n",
            " dense_46 (Dense)            (None, 64)                4160      \n",
            "                                                                 \n",
            " dense_47 (Dense)            (None, 1)                 65        \n",
            "                                                                 \n",
            "=================================================================\n",
            "Total params: 4,672,961\n",
            "Trainable params: 4,672,961\n",
            "Non-trainable params: 0\n",
            "_________________________________________________________________\n"
          ]
        }
      ]
    },
    {
      "cell_type": "markdown",
      "source": [
        "## Compile"
      ],
      "metadata": {
        "id": "cO4z0B7Nq7Y8"
      }
    },
    {
      "cell_type": "code",
      "source": [
        "model.compile(optimizer='Adam',loss='binary_crossentropy',metrics=['accuracy'])"
      ],
      "metadata": {
        "id": "hYBj7bcHqmkY"
      },
      "execution_count": null,
      "outputs": []
    },
    {
      "cell_type": "markdown",
      "source": [
        "## Fit"
      ],
      "metadata": {
        "id": "j6-tqEOkrGan"
      }
    },
    {
      "cell_type": "code",
      "source": [
        "history = model.fit(X_train, y_train, epochs=20, batch_size=512, validation_data=(X_test, y_test))"
      ],
      "metadata": {
        "colab": {
          "base_uri": "https://localhost:8080/"
        },
        "id": "hgdR8uRCrBBD",
        "outputId": "6eded45f-6772-4d14-ca65-370ac38d5085"
      },
      "execution_count": null,
      "outputs": [
        {
          "output_type": "stream",
          "name": "stdout",
          "text": [
            "Epoch 1/20\n",
            "3/3 [==============================] - 5s 1s/step - loss: 0.6914 - accuracy: 0.5514 - val_loss: 0.6802 - val_accuracy: 0.7167\n",
            "Epoch 2/20\n",
            "3/3 [==============================] - 3s 1s/step - loss: 0.6029 - accuracy: 0.9907 - val_loss: 0.6509 - val_accuracy: 0.7567\n",
            "Epoch 3/20\n",
            "3/3 [==============================] - 3s 1s/step - loss: 0.4923 - accuracy: 0.9979 - val_loss: 0.6167 - val_accuracy: 0.7533\n",
            "Epoch 4/20\n",
            "3/3 [==============================] - 2s 740ms/step - loss: 0.3690 - accuracy: 0.9979 - val_loss: 0.5879 - val_accuracy: 0.7467\n",
            "Epoch 5/20\n",
            "3/3 [==============================] - 2s 851ms/step - loss: 0.2614 - accuracy: 0.9986 - val_loss: 0.5608 - val_accuracy: 0.7600\n",
            "Epoch 6/20\n",
            "3/3 [==============================] - 2s 829ms/step - loss: 0.1788 - accuracy: 0.9986 - val_loss: 0.5387 - val_accuracy: 0.7717\n",
            "Epoch 7/20\n",
            "3/3 [==============================] - 2s 723ms/step - loss: 0.1200 - accuracy: 0.9993 - val_loss: 0.5215 - val_accuracy: 0.7733\n",
            "Epoch 8/20\n",
            "3/3 [==============================] - 3s 1s/step - loss: 0.0804 - accuracy: 1.0000 - val_loss: 0.5090 - val_accuracy: 0.7750\n",
            "Epoch 9/20\n",
            "3/3 [==============================] - 3s 1s/step - loss: 0.0535 - accuracy: 1.0000 - val_loss: 0.5001 - val_accuracy: 0.7733\n",
            "Epoch 10/20\n",
            "3/3 [==============================] - 2s 732ms/step - loss: 0.0362 - accuracy: 1.0000 - val_loss: 0.4942 - val_accuracy: 0.7733\n",
            "Epoch 11/20\n",
            "3/3 [==============================] - 2s 826ms/step - loss: 0.0247 - accuracy: 1.0000 - val_loss: 0.4920 - val_accuracy: 0.7717\n",
            "Epoch 12/20\n",
            "3/3 [==============================] - 2s 837ms/step - loss: 0.0175 - accuracy: 1.0000 - val_loss: 0.4922 - val_accuracy: 0.7717\n",
            "Epoch 13/20\n",
            "3/3 [==============================] - 2s 736ms/step - loss: 0.0127 - accuracy: 1.0000 - val_loss: 0.4942 - val_accuracy: 0.7783\n",
            "Epoch 14/20\n",
            "3/3 [==============================] - 3s 1s/step - loss: 0.0095 - accuracy: 1.0000 - val_loss: 0.4976 - val_accuracy: 0.7783\n",
            "Epoch 15/20\n",
            "3/3 [==============================] - 3s 1s/step - loss: 0.0073 - accuracy: 1.0000 - val_loss: 0.5018 - val_accuracy: 0.7817\n",
            "Epoch 16/20\n",
            "3/3 [==============================] - 2s 741ms/step - loss: 0.0058 - accuracy: 1.0000 - val_loss: 0.5067 - val_accuracy: 0.7817\n",
            "Epoch 17/20\n",
            "3/3 [==============================] - 2s 831ms/step - loss: 0.0047 - accuracy: 1.0000 - val_loss: 0.5121 - val_accuracy: 0.7817\n",
            "Epoch 18/20\n",
            "3/3 [==============================] - 2s 746ms/step - loss: 0.0039 - accuracy: 1.0000 - val_loss: 0.5176 - val_accuracy: 0.7833\n",
            "Epoch 19/20\n",
            "3/3 [==============================] - 2s 831ms/step - loss: 0.0033 - accuracy: 1.0000 - val_loss: 0.5230 - val_accuracy: 0.7783\n",
            "Epoch 20/20\n",
            "3/3 [==============================] - 3s 1s/step - loss: 0.0028 - accuracy: 1.0000 - val_loss: 0.5282 - val_accuracy: 0.7817\n"
          ]
        }
      ]
    },
    {
      "cell_type": "code",
      "source": [
        "history_dict = history.history\n",
        "history_dict.keys()"
      ],
      "metadata": {
        "colab": {
          "base_uri": "https://localhost:8080/"
        },
        "id": "H2_BYFmhr95m",
        "outputId": "c2c6f909-f6c1-4488-b3b1-78c5be280d7d"
      },
      "execution_count": null,
      "outputs": [
        {
          "output_type": "execute_result",
          "data": {
            "text/plain": [
              "dict_keys(['loss', 'accuracy', 'val_loss', 'val_accuracy'])"
            ]
          },
          "metadata": {},
          "execution_count": 356
        }
      ]
    },
    {
      "cell_type": "code",
      "source": [
        "loss_values = history_dict['loss']\n",
        "val_loss_values = history_dict['val_loss']\n",
        "epochs = range(1, len(history_dict['accuracy'])+1)"
      ],
      "metadata": {
        "id": "NupCiTs8wHrb"
      },
      "execution_count": null,
      "outputs": []
    },
    {
      "cell_type": "code",
      "source": [
        "plt.plot(epochs, loss_values, 'bo', label = 'Ошибка на этапе обучения')\n",
        "plt.plot(epochs, val_loss_values, 'b', label = 'Ошибка на этапе проверки')\n",
        "plt.title('Ошибка на этапах обучения и проверки')\n",
        "plt.xlabel('Эпохи')\n",
        "plt.ylabel('Ошибка')\n",
        "plt.legend()\n",
        "plt.show()"
      ],
      "metadata": {
        "colab": {
          "base_uri": "https://localhost:8080/",
          "height": 472
        },
        "id": "DPz1uPutwRxW",
        "outputId": "a72fe43c-24ce-40b4-bf45-ec28371f2a63"
      },
      "execution_count": null,
      "outputs": [
        {
          "output_type": "display_data",
          "data": {
            "text/plain": [
              "<Figure size 640x480 with 1 Axes>"
            ],
            "image/png": "[encoded data removed]"
          },
          "metadata": {}
        }
      ]
    },
    {
      "cell_type": "code",
      "source": [
        "acc_values = history_dict['accuracy']\n",
        "val_acc_values = history_dict['val_accuracy']\n",
        "plt.plot(epochs, acc_values, 'bo', label = 'Точность на этапе обучения')\n",
        "plt.plot(epochs, val_acc_values, 'b', label = 'Точность на этапе проверки')\n",
        "plt.title('Точность на этапах обучения и проверки')\n",
        "plt.xlabel('Эпохи')\n",
        "plt.ylabel('Точность')\n",
        "plt.legend()\n",
        "plt.show()"
      ],
      "metadata": {
        "colab": {
          "base_uri": "https://localhost:8080/",
          "height": 472
        },
        "id": "6XaPFNmMwX0u",
        "outputId": "6fe431d6-a578-4e0e-c004-7f967c2f2573"
      },
      "execution_count": null,
      "outputs": [
        {
          "output_type": "display_data",
          "data": {
            "text/plain": [
              "<Figure size 640x480 with 1 Axes>"
            ],
            "image/png": "[encoded data removed]"
          },
          "metadata": {}
        }
      ]
    },
    {
      "cell_type": "code",
      "source": [
        "y_pred = model.predict(X_test)\n",
        "# level 0,5 for text classification\n",
        "y_pred = (y_pred >= 0.5).astype(\"int\")\n",
        "from sklearn.metrics import confusion_matrix\n",
        "from sklearn.metrics import classification_report\n",
        "print(classification_report(y_test,y_pred))\n",
        "print(confusion_matrix(y_test,y_pred))"
      ],
      "metadata": {
        "colab": {
          "base_uri": "https://localhost:8080/"
        },
        "id": "lfQwlOeDweN0",
        "outputId": "8e3b0089-06b7-4a32-cb08-cb3c2e72e457"
      },
      "execution_count": null,
      "outputs": [
        {
          "output_type": "stream",
          "name": "stdout",
          "text": [
            "19/19 [==============================] - 0s 20ms/step\n",
            "              precision    recall  f1-score   support\n",
            "\n",
            "           0       0.83      0.73      0.78       310\n",
            "           1       0.74      0.84      0.79       290\n",
            "\n",
            "    accuracy                           0.78       600\n",
            "   macro avg       0.79      0.78      0.78       600\n",
            "weighted avg       0.79      0.78      0.78       600\n",
            "\n",
            "[[226  84]\n",
            " [ 47 243]]\n"
          ]
        }
      ]
    }
  ]
}